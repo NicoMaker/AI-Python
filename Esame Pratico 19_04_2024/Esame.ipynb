{
 "cells": [
  {
   "cell_type": "code",
   "execution_count": 9,
   "metadata": {},
   "outputs": [
    {
     "name": "stdout",
     "output_type": "stream",
     "text": [
      "Accuratezza:  0.2714910150558524\n",
      "Classe Predetta:  ['Department of Health and Human Services']\n"
     ]
    }
   ],
   "source": [
    "import pandas as pd\n",
    "from sklearn.model_selection import train_test_split\n",
    "from sklearn.linear_model import Perceptron\n",
    "from sklearn.preprocessing import StandardScaler, OneHotEncoder\n",
    "from sklearn.compose import ColumnTransformer\n",
    "from sklearn.pipeline import Pipeline\n",
    "\n",
    "# Caricamento del dataset\n",
    "csv = pd.read_csv(\"Employee_Salaries.csv\")\n",
    "\n",
    "# Seleziona le colonne di interesse\n",
    "features = ['Base_Salary', 'Overtime_Pay', 'Longevity_Pay','Gender']\n",
    "target = 'Department_Name'\n",
    "\n",
    "# Split dei dati in training set e test set\n",
    "X = csv[features]\n",
    "y = csv[target]\n",
    "X_train, X_test, y_train, y_test = train_test_split(X, y, test_size=0.2, random_state=0)\n",
    "\n",
    "# Creazione di un trasformatore per la codifica one-hot della feature 'Gender'\n",
    "preprocessor = ColumnTransformer(\n",
    "    transformers=[\n",
    "        ('cat', OneHotEncoder(), ['Gender'])\n",
    "    ],\n",
    "    remainder='passthrough'\n",
    ")\n",
    "\n",
    "# Creazione del pipeline con normalizzazione e addestramento del perceptron\n",
    "pipeline = Pipeline([\n",
    "    ('preprocessor', preprocessor),\n",
    "    ('scaler', StandardScaler()),\n",
    "    ('perceptron', Perceptron(max_iter=1000, tol=0.001, eta0=0.01, random_state=1))\n",
    "])\n",
    "\n",
    "# Addestramento del modello\n",
    "pipeline.fit(X_train, y_train)\n",
    "\n",
    "# Valutazione delle prestazioni del modello sul test set\n",
    "accuracy = pipeline.score(X_test, y_test)\n",
    "print(\"Accuratezza: \", accuracy)\n",
    "\n",
    "# Esempio di predizione con nuovi dati\n",
    "new_example = pd.DataFrame([[145613.36,0,0,'M'\n",
    "]], columns=features)\n",
    "predicted_class = pipeline.predict(new_example)\n",
    "print(\"Classe Predetta: \", predicted_class)\n"
   ]
  }
 ],
 "metadata": {
  "kernelspec": {
   "display_name": "Python 3",
   "language": "python",
   "name": "python3"
  },
  "language_info": {
   "codemirror_mode": {
    "name": "ipython",
    "version": 3
   },
   "file_extension": ".py",
   "mimetype": "text/x-python",
   "name": "python",
   "nbconvert_exporter": "python",
   "pygments_lexer": "ipython3",
   "version": "3.11.9"
  }
 },
 "nbformat": 4,
 "nbformat_minor": 2
}
