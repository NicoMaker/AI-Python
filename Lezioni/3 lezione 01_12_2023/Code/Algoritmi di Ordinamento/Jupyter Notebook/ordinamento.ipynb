{
 "cells": [
  {
   "cell_type": "markdown",
   "metadata": {},
   "source": [
    "Bubble Sort"
   ]
  },
  {
   "cell_type": "code",
   "execution_count": 3,
   "metadata": {},
   "outputs": [
    {
     "name": "stdout",
     "output_type": "stream",
     "text": [
      "[19, 2, 31, 45, 6, 11, 121, 27]\n",
      "1 passaggio ) : [19, 2, 31, 45, 6, 11, 121, 27]\n",
      "2 passaggio ) : [2, 19, 31, 6, 11, 45, 27, 121]\n",
      "3 passaggio ) : [2, 19, 6, 11, 31, 27, 45, 121]\n",
      "4 passaggio ) : [2, 6, 11, 19, 27, 31, 45, 121]\n",
      "5 passaggio ) : [2, 6, 11, 19, 27, 31, 45, 121]\n",
      "6 passaggio ) : [2, 6, 11, 19, 27, 31, 45, 121]\n",
      "7 passaggio ) : [2, 6, 11, 19, 27, 31, 45, 121]\n"
     ]
    }
   ],
   "source": [
    "def bubblesort (list):\n",
    "    i = 0\n",
    "# Swap the elements to arrange in order\n",
    "    for iter_num in range (len(list) -1,0, -1): \n",
    "        i += 1\n",
    "        print(f'{i} passaggio ) : {list}')\n",
    "        \n",
    "        for idx in range(iter_num):\n",
    "            if list[idx]>list[idx+1]:\n",
    "                temp = list[idx]\n",
    "                list[idx] = list[idx+1]\n",
    "                list[idx+1] = temp\n",
    "\n",
    "print(list)\n",
    "list = [19,2,31,45,6,11,121,27]\n",
    "bubblesort (list)"
   ]
  },
  {
   "cell_type": "markdown",
   "metadata": {},
   "source": [
    "Unisci Ordinamento "
   ]
  },
  {
   "cell_type": "code",
   "execution_count": 4,
   "metadata": {},
   "outputs": [
    {
     "name": "stdout",
     "output_type": "stream",
     "text": [
      "mergesort\n",
      "lista sinistra [19]\n",
      "lista sinistra [2]\n",
      "lista destra [31]\n"
     ]
    },
    {
     "ename": "TypeError",
     "evalue": "'list' object is not callable",
     "output_type": "error",
     "traceback": [
      "\u001b[1;31m---------------------------------------------------------------------------\u001b[0m",
      "\u001b[1;31mTypeError\u001b[0m                                 Traceback (most recent call last)",
      "Cell \u001b[1;32mIn[4], line 37\u001b[0m\n\u001b[0;32m     35\u001b[0m unsorted_list \u001b[38;5;241m=\u001b[39m [\u001b[38;5;241m19\u001b[39m,\u001b[38;5;241m2\u001b[39m,\u001b[38;5;241m31\u001b[39m,\u001b[38;5;241m45\u001b[39m,\u001b[38;5;241m6\u001b[39m,\u001b[38;5;241m11\u001b[39m,\u001b[38;5;241m121\u001b[39m]\n\u001b[0;32m     36\u001b[0m \u001b[38;5;28mprint\u001b[39m(\u001b[38;5;124m'\u001b[39m\u001b[38;5;124mmergesort\u001b[39m\u001b[38;5;124m'\u001b[39m)\n\u001b[1;32m---> 37\u001b[0m \u001b[38;5;28mprint\u001b[39m(\u001b[43mmerge_sort\u001b[49m\u001b[43m(\u001b[49m\u001b[43munsorted_list\u001b[49m\u001b[43m)\u001b[49m)\n",
      "Cell \u001b[1;32mIn[4], line 9\u001b[0m, in \u001b[0;36mmerge_sort\u001b[1;34m(unsorted_list)\u001b[0m\n\u001b[0;32m      6\u001b[0m left_list \u001b[38;5;241m=\u001b[39m unsorted_list[:middle]\n\u001b[0;32m      7\u001b[0m right_list \u001b[38;5;241m=\u001b[39m unsorted_list[middle:]\n\u001b[1;32m----> 9\u001b[0m left_list \u001b[38;5;241m=\u001b[39m \u001b[43mmerge_sort\u001b[49m\u001b[43m(\u001b[49m\u001b[43mleft_list\u001b[49m\u001b[43m)\u001b[49m\n\u001b[0;32m     10\u001b[0m \u001b[38;5;28mprint\u001b[39m(\u001b[38;5;124m'\u001b[39m\u001b[38;5;124mlista sinistra\u001b[39m\u001b[38;5;124m'\u001b[39m,left_list)\n\u001b[0;32m     11\u001b[0m right_list \u001b[38;5;241m=\u001b[39m merge_sort(right_list)\n",
      "Cell \u001b[1;32mIn[4], line 11\u001b[0m, in \u001b[0;36mmerge_sort\u001b[1;34m(unsorted_list)\u001b[0m\n\u001b[0;32m      9\u001b[0m left_list \u001b[38;5;241m=\u001b[39m merge_sort(left_list)\n\u001b[0;32m     10\u001b[0m \u001b[38;5;28mprint\u001b[39m(\u001b[38;5;124m'\u001b[39m\u001b[38;5;124mlista sinistra\u001b[39m\u001b[38;5;124m'\u001b[39m,left_list)\n\u001b[1;32m---> 11\u001b[0m right_list \u001b[38;5;241m=\u001b[39m \u001b[43mmerge_sort\u001b[49m\u001b[43m(\u001b[49m\u001b[43mright_list\u001b[49m\u001b[43m)\u001b[49m\n\u001b[0;32m     12\u001b[0m \u001b[38;5;28mprint\u001b[39m(\u001b[38;5;124m'\u001b[39m\u001b[38;5;124mlista destra\u001b[39m\u001b[38;5;124m'\u001b[39m,right_list)\n\u001b[0;32m     14\u001b[0m \u001b[38;5;28;01mreturn\u001b[39;00m \u001b[38;5;28mlist\u001b[39m(merge(left_list, right_list))\n",
      "Cell \u001b[1;32mIn[4], line 14\u001b[0m, in \u001b[0;36mmerge_sort\u001b[1;34m(unsorted_list)\u001b[0m\n\u001b[0;32m     11\u001b[0m right_list \u001b[38;5;241m=\u001b[39m merge_sort(right_list)\n\u001b[0;32m     12\u001b[0m \u001b[38;5;28mprint\u001b[39m(\u001b[38;5;124m'\u001b[39m\u001b[38;5;124mlista destra\u001b[39m\u001b[38;5;124m'\u001b[39m,right_list)\n\u001b[1;32m---> 14\u001b[0m \u001b[38;5;28;01mreturn\u001b[39;00m \u001b[38;5;28;43mlist\u001b[39;49m\u001b[43m(\u001b[49m\u001b[43mmerge\u001b[49m\u001b[43m(\u001b[49m\u001b[43mleft_list\u001b[49m\u001b[43m,\u001b[49m\u001b[43m \u001b[49m\u001b[43mright_list\u001b[49m\u001b[43m)\u001b[49m\u001b[43m)\u001b[49m\n",
      "\u001b[1;31mTypeError\u001b[0m: 'list' object is not callable"
     ]
    }
   ],
   "source": [
    "def merge_sort(unsorted_list):\n",
    "    if len(unsorted_list) <= 1:\n",
    "        return unsorted_list\n",
    "# Find the middle point and devide it\n",
    "    middle = len(unsorted_list) // 2\n",
    "    left_list = unsorted_list[:middle]\n",
    "    right_list = unsorted_list[middle:]\n",
    "    \n",
    "    left_list = merge_sort(left_list)\n",
    "    print('lista sinistra',left_list)\n",
    "    right_list = merge_sort(right_list)\n",
    "    print('lista destra',right_list)\n",
    "    \n",
    "    return list(merge(left_list, right_list))\n",
    "\n",
    "# Merge the sorted halves\n",
    "\n",
    "def merge(left_half,right_half):\n",
    "\n",
    "    res = []\n",
    "    while len(left_half) != 0 and len(right_half) != 0:\n",
    "        if left_half[0] < right_half[0]:\n",
    "            res.append(left_half[0])\n",
    "            left_half.remove(left_half[0])\n",
    "            \n",
    "        else:\n",
    "            res.append(right_half[0])\n",
    "            right_half.remove(right_half[0])\n",
    "    if len(left_half) == 0:\n",
    "        res = res + right_half\n",
    "    else:\n",
    "        res = res + left_half\n",
    "    return res\n",
    "\n",
    "unsorted_list = [19,2,31,45,6,11,121]\n",
    "print('mergesort')\n",
    "print(merge_sort(unsorted_list))\n",
    "\n"
   ]
  },
  {
   "cell_type": "markdown",
   "metadata": {},
   "source": [
    "Inserzione"
   ]
  },
  {
   "cell_type": "code",
   "execution_count": 5,
   "metadata": {},
   "outputs": [
    {
     "name": "stdout",
     "output_type": "stream",
     "text": [
      "[19, 2, 31, 45, 6, 11, 27, 121]\n"
     ]
    }
   ],
   "source": [
    "def insertion_sort(InputList):\n",
    "    for i in range (1,len(InputList)):\n",
    "        j = i-1\n",
    "        nxt_element = InputList[i]\n",
    "\n",
    "#Compara l'elemento attuale col successivo\n",
    "\n",
    "    while(InputList[j] > nxt_element) and (j >= 0):\n",
    "        InputList[j+1] = InputList[j]\n",
    "        j = j-1\n",
    "    InputList[j + 1] = nxt_element\n",
    "\n",
    "InputList=[19,2,31,45,6,11,121,27]\n",
    "insertion_sort(InputList)\n",
    "print(InputList)"
   ]
  },
  {
   "cell_type": "markdown",
   "metadata": {},
   "source": [
    "Shell Sort"
   ]
  },
  {
   "cell_type": "code",
   "execution_count": 7,
   "metadata": {},
   "outputs": [
    {
     "name": "stdout",
     "output_type": "stream",
     "text": [
      "[2, 6, 11, 19, 27, 31, 45, 121]\n"
     ]
    }
   ],
   "source": [
    "def Shell_Sort(input_list):\n",
    "    \n",
    "    gap = len(input_list) // 2\n",
    "    while gap > 0:\n",
    "    \n",
    "        for i in range(gap, len(input_list)):\n",
    "            temp = input_list[i]\n",
    "            j = i\n",
    "# Sort the sub list for this gap\n",
    "\n",
    "            while j >= gap and input_list[j - gap] > temp:\n",
    "                input_list[j] = input_list[j - gap]\n",
    "                j = j-gap\n",
    "            input_list[j] = temp \n",
    "        \n",
    "# Reduce the gap for the next element \n",
    "      \n",
    "        gap = gap // 2  \n",
    "    \n",
    "list = [19,2,31,45,6,11,121,27]\n",
    "\n",
    "Shell_Sort(list)\n",
    "print(list)"
   ]
  },
  {
   "cell_type": "markdown",
   "metadata": {},
   "source": [
    "Ordina Selezione"
   ]
  },
  {
   "cell_type": "code",
   "execution_count": 8,
   "metadata": {},
   "outputs": [
    {
     "name": "stdout",
     "output_type": "stream",
     "text": [
      "1 passaggio ) : [19, 2, 31, 45, 6, 11, 121, 27]\n",
      "2 passaggio ) : [2, 19, 31, 45, 6, 11, 121, 27]\n",
      "3 passaggio ) : [2, 6, 31, 45, 19, 11, 121, 27]\n",
      "4 passaggio ) : [2, 6, 11, 45, 19, 31, 121, 27]\n",
      "5 passaggio ) : [2, 6, 11, 19, 45, 31, 121, 27]\n",
      "6 passaggio ) : [2, 6, 11, 19, 27, 31, 121, 45]\n",
      "7 passaggio ) : [2, 6, 11, 19, 27, 31, 121, 45]\n",
      "8 passaggio ) : [2, 6, 11, 19, 27, 31, 45, 121]\n"
     ]
    }
   ],
   "source": [
    "def Seletion_sort(input_list):\n",
    "    i = 0\n",
    "    \n",
    "    for idx in range(len(input_list)): \n",
    "        min_idx = idx\n",
    "        i += 1\n",
    "        print(f'{i} passaggio ) : {input_list}')\n",
    "        \n",
    "        for j in range(idx + 1, len(input_list)):\n",
    "            \n",
    "            if input_list[min_idx] > input_list[j]:\n",
    "                min_idx = j\n",
    "                \n",
    "# Swap the minimum value with the compared value\n",
    "\n",
    "        input_list[idx], input_list[min_idx] = input_list[min_idx] , input_list[idx]\n",
    "        \n",
    "list = [19,2,31,45,6,11,121,27]\n",
    "Seletion_sort(list)"
   ]
  }
 ],
 "metadata": {
  "kernelspec": {
   "display_name": "Python 3",
   "language": "python",
   "name": "python3"
  },
  "language_info": {
   "codemirror_mode": {
    "name": "ipython",
    "version": 3
   },
   "file_extension": ".py",
   "mimetype": "text/x-python",
   "name": "python",
   "nbconvert_exporter": "python",
   "pygments_lexer": "ipython3",
   "version": "3.11.7"
  }
 },
 "nbformat": 4,
 "nbformat_minor": 2
}
