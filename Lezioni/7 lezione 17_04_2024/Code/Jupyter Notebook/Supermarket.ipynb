{
 "cells": [
  {
   "cell_type": "markdown",
   "metadata": {},
   "source": [
    "Dichiarazione librerie"
   ]
  },
  {
   "cell_type": "code",
   "execution_count": 9,
   "metadata": {},
   "outputs": [],
   "source": [
    "import numpy as np\n",
    "import pandas as pd\n",
    "from sklearn import datasets #riferimento ai dati di esempio\n",
    "from sklearn.model_selection import train_test_split #organizza dati learning\n",
    "from sklearn.linear_model import Perceptron #modello di predizione scelto\n",
    "from sklearn.metrics import accuracy_score #calcolo dell'accuratezza\n"
   ]
  },
  {
   "cell_type": "markdown",
   "metadata": {},
   "source": [
    "Classe Rete Neurale"
   ]
  },
  {
   "cell_type": "code",
   "execution_count": 10,
   "metadata": {},
   "outputs": [
    {
     "name": "stdout",
     "output_type": "stream",
     "text": [
      "Nuovo input:  1 1 0\n",
      "[0.99996185]\n"
     ]
    }
   ],
   "source": [
    "import numpy as np\n",
    "\n",
    "# Definizione della classe ReteNeurale\n",
    "class ReteNeurale():\n",
    "    def __init__(self):\n",
    "        # Inizializzazione del generatore di numeri casuali per riproducibilità\n",
    "        np.random.seed(1)\n",
    "        # Inizializzazione dei pesi con valori casuali tra -1 e 1\n",
    "        self.pesi = 2 * np.random.random((3, 1)) - 1\n",
    "\n",
    "    def sigmoide(self, x):\n",
    "        \"\"\"\n",
    "        Funzione di attivazione sigmoide.\n",
    "\n",
    "        La funzione sigmoide è comunemente utilizzata nelle reti neurali per introdurre\n",
    "        la non linearità. Questa funzione mappa i valori di input in un intervallo compreso\n",
    "        tra 0 e 1, rendendola utile per modellare le probabilità o i pesi di attivazione.\n",
    "\n",
    "        Argomenti:\n",
    "        x (numpy.ndarray): Array contenente i valori di input.\n",
    "\n",
    "        Ritorno:\n",
    "        numpy.ndarray: Array contenente i risultati della funzione sigmoide applicata\n",
    "                      agli elementi di x.\n",
    "        \"\"\"\n",
    "        return 1 / (1 + np.exp(-x))\n",
    "\n",
    "    def sigmoide_der(self, x):\n",
    "        \"\"\"\n",
    "        Derivata della funzione sigmoide.\n",
    "\n",
    "        La derivata della funzione sigmoide è utilizzata durante il processo di apprendimento\n",
    "        per calcolare la correzione dei pesi. Aiuta a determinare quanto il modello deve\n",
    "        aggiornare i suoi parametri in base all'errore commesso.\n",
    "\n",
    "        Argomenti:\n",
    "        x (numpy.ndarray): Array contenente i valori di input.\n",
    "\n",
    "        Ritorno:\n",
    "        numpy.ndarray: Array contenente i risultati della derivata della funzione sigmoide\n",
    "                      applicata agli elementi di x.\n",
    "        \"\"\"\n",
    "        return x * (1 - x)\n",
    "\n",
    "    def train(self, training_inputs, training_outputs, iterazioni):\n",
    "        \"\"\"\n",
    "        Addestramento della rete neurale utilizzando l'algoritmo di retropropagazione.\n",
    "\n",
    "        Argomenti:\n",
    "        training_inputs (numpy.ndarray): Array contenente i dati di input di addestramento.\n",
    "        training_outputs (numpy.ndarray): Array contenente gli output desiderati di addestramento.\n",
    "        iterazioni (int): Numero di iterazioni per l'addestramento.\n",
    "        \"\"\"\n",
    "        for iteration in range(iterazioni):\n",
    "            # Calcolo dell'output a partire dall'input\n",
    "            output = self.calcola(training_inputs)\n",
    "            # Calcolo del tasso di errore\n",
    "            error = training_outputs - output\n",
    "            # Calcolo delle correzioni secondo il tasso di errore e la derivata della sigmoide\n",
    "            adj = np.dot(training_inputs.T, error * self.sigmoide_der(output))\n",
    "            # Aggiornamento dei pesi della rete neurale\n",
    "            self.pesi += adj\n",
    "\n",
    "    def calcola(self, inputs):\n",
    "        \"\"\"\n",
    "        Calcolo dell'output della rete neurale per un dato insieme di input.\n",
    "\n",
    "        Argomenti:\n",
    "        inputs (numpy.ndarray): Array contenente i dati di input.\n",
    "\n",
    "        Ritorno:\n",
    "        numpy.ndarray: Array contenente l'output predetto dalla rete neurale.\n",
    "        \"\"\"\n",
    "        # Conversione degli input in tipo float\n",
    "        inputs = inputs.astype(float)\n",
    "        # Applicazione della funzione sigmoide agli input per ottenere l'output della rete\n",
    "        output = self.sigmoide(np.dot(inputs, self.pesi))\n",
    "        return output\n",
    "\n",
    "# Blocco principale del programma\n",
    "if __name__ == \"__main__\":\n",
    "    # Inizializzazione della rete neurale\n",
    "    rete_neurale = ReteNeurale()\n",
    "\n",
    "    # Definizione dei dati di addestramento\n",
    "    training_inputs = np.array([[0, 0, 1],\n",
    "                                [1, 1, 1],\n",
    "                                [1, 0, 1],\n",
    "                                [0, 1, 1]])\n",
    "    training_outputs = np.array([[0, 1, 1, 0]]).T\n",
    "\n",
    "    # Addestramento della rete per 20000 iterazioni\n",
    "    rete_neurale.train(training_inputs, training_outputs, 20000)\n",
    "\n",
    "    # Inserimento di nuovi dati di input senza specificare l'output desiderato\n",
    "    print(\"Nuovo input: \", 1, 1, 0)\n",
    "    print(rete_neurale.calcola(np.array([1, 1, 0])))\n"
   ]
  },
  {
   "cell_type": "markdown",
   "metadata": {},
   "source": [
    "Importazione csv"
   ]
  },
  {
   "cell_type": "code",
   "execution_count": 11,
   "metadata": {},
   "outputs": [],
   "source": [
    "csv = pd.read_csv(\"supermarket_sales.csv\")"
   ]
  },
  {
   "cell_type": "markdown",
   "metadata": {},
   "source": [
    "Imposto dati del CSV e li analizzo"
   ]
  },
  {
   "cell_type": "code",
   "execution_count": 12,
   "metadata": {},
   "outputs": [],
   "source": [
    "elemments = [\n",
    "    'Unit price', 'Quantity','Tax 5%','Total',\n",
    "        'cogs','gross margin percentage','gross income','Rating'\n",
    "]\n",
    "\n",
    "# Variabile con i valori dei vettori\n",
    "Data = csv[elemments]\n",
    "target = csv['City']\n",
    "\n",
    "# Gestire il formato della variabile target\n",
    "target_temp = target.squeeze()\n",
    "nome_temp = pd.unique(target_temp)\n"
   ]
  },
  {
   "cell_type": "markdown",
   "metadata": {},
   "source": [
    "Allenamento presetrom"
   ]
  },
  {
   "cell_type": "code",
   "execution_count": 13,
   "metadata": {},
   "outputs": [],
   "source": [
    "x_train,x_text,y_train,y_text = train_test_split(Data,target, test_size = 0.2, random_state=0)\n"
   ]
  },
  {
   "cell_type": "code",
   "execution_count": 14,
   "metadata": {},
   "outputs": [
    {
     "name": "stdout",
     "output_type": "stream",
     "text": [
      "-- Epoch 1\n",
      "Norm: 5.42, NNZs: 8, Bias: 0.090000, T: 800, Avg. loss: 701.736236\n",
      "Total training time: 0.00 seconds.\n",
      "-- Epoch 2\n",
      "Norm: 5.65, NNZs: 8, Bias: 0.120000, T: 1600, Avg. loss: 691.669229\n",
      "Total training time: 0.00 seconds.\n",
      "-- Epoch 3\n",
      "Norm: 4.29, NNZs: 8, Bias: 0.120000, T: 2400, Avg. loss: 647.017595\n",
      "Total training time: 0.00 seconds.\n",
      "-- Epoch 4\n",
      "Norm: 5.54, NNZs: 8, Bias: 0.230000, T: 3200, Avg. loss: 686.020977\n",
      "Total training time: 0.00 seconds.\n",
      "-- Epoch 5\n",
      "Norm: 3.04, NNZs: 8, Bias: 0.240000, T: 4000, Avg. loss: 718.755396\n",
      "Total training time: 0.00 seconds.\n",
      "-- Epoch 6\n",
      "Norm: 6.30, NNZs: 8, Bias: 0.310000, T: 4800, Avg. loss: 610.941414\n",
      "Total training time: 0.00 seconds.\n",
      "-- Epoch 7\n",
      "Norm: 4.62, NNZs: 8, Bias: 0.280000, T: 5600, Avg. loss: 670.403364\n",
      "Total training time: 0.00 seconds.\n",
      "-- Epoch 8\n",
      "Norm: 6.53, NNZs: 8, Bias: 0.250000, T: 6400, Avg. loss: 707.024183\n",
      "Total training time: 0.00 seconds.\n",
      "-- Epoch 9\n",
      "Norm: 4.93, NNZs: 8, Bias: 0.210000, T: 7200, Avg. loss: 751.759014\n",
      "Total training time: 0.00 seconds.\n",
      "-- Epoch 10\n",
      "Norm: 9.10, NNZs: 8, Bias: 0.150000, T: 8000, Avg. loss: 699.391856\n",
      "Total training time: 0.00 seconds.\n",
      "-- Epoch 11\n",
      "Norm: 3.49, NNZs: 8, Bias: 0.210000, T: 8800, Avg. loss: 679.634623\n",
      "Total training time: 0.00 seconds.\n",
      "Convergence after 11 epochs took 0.00 seconds\n",
      "-- Epoch 1\n",
      "Norm: 4.57, NNZs: 8, Bias: -0.150000, T: 800, Avg. loss: 771.252754\n",
      "Total training time: 0.00 seconds.\n",
      "-- Epoch 2\n",
      "Norm: 3.54, NNZs: 8, Bias: -0.160000, T: 1600, Avg. loss: 853.022290\n",
      "Total training time: 0.00 seconds.\n",
      "-- Epoch 3\n",
      "Norm: 7.31, NNZs: 8, Bias: -0.320000, T: 2400, Avg. loss: 692.522918\n",
      "Total training time: 0.00 seconds.\n",
      "-- Epoch 4\n",
      "Norm: 5.45, NNZs: 8, Bias: -0.290000, T: 3200, Avg. loss: 678.744129\n",
      "Total training time: 0.00 seconds.\n",
      "-- Epoch 5\n",
      "Norm: 6.41, NNZs: 8, Bias: -0.330000, T: 4000, Avg. loss: 729.051263\n",
      "Total training time: 0.00 seconds.\n",
      "-- Epoch 6\n",
      "Norm: 7.71, NNZs: 8, Bias: -0.380000, T: 4800, Avg. loss: 683.586847\n",
      "Total training time: 0.00 seconds.\n",
      "-- Epoch 7\n",
      "Norm: 5.49, NNZs: 8, Bias: -0.450000, T: 5600, Avg. loss: 711.622937\n",
      "Total training time: 0.00 seconds.\n",
      "-- Epoch 8\n",
      "Norm: 7.70, NNZs: 8, Bias: -0.460000, T: 6400, Avg. loss: 771.925661\n",
      "Total training time: 0.00 seconds.\n",
      "-- Epoch 9\n",
      "Norm: 6.29, NNZs: 8, Bias: -0.370000, T: 7200, Avg. loss: 688.249114\n",
      "Total training time: 0.00 seconds.\n",
      "Convergence after 9 epochs took 0.00 seconds\n",
      "-- Epoch 1\n",
      "Norm: 2.43, NNZs: 8, Bias: 0.080000, T: 800, Avg. loss: 692.346598\n",
      "Total training time: 0.00 seconds.\n",
      "-- Epoch 2\n",
      "Norm: 2.64, NNZs: 8, Bias: 0.120000, T: 1600, Avg. loss: 679.069538\n",
      "Total training time: 0.00 seconds.\n",
      "-- Epoch 3\n",
      "Norm: 11.17, NNZs: 8, Bias: 0.110000, T: 2400, Avg. loss: 749.323721\n",
      "Total training time: 0.00 seconds.\n",
      "-- Epoch 4\n",
      "Norm: 4.74, NNZs: 8, Bias: 0.080000, T: 3200, Avg. loss: 693.917656\n",
      "Total training time: 0.00 seconds.\n",
      "-- Epoch 5\n",
      "Norm: 5.34, NNZs: 8, Bias: 0.110000, T: 4000, Avg. loss: 714.410734\n",
      "Total training time: 0.00 seconds.\n",
      "-- Epoch 6\n",
      "Norm: 2.42, NNZs: 8, Bias: 0.070000, T: 4800, Avg. loss: 718.565490\n",
      "Total training time: 0.00 seconds.\n",
      "-- Epoch 7\n",
      "Norm: 5.27, NNZs: 8, Bias: 0.180000, T: 5600, Avg. loss: 652.579229\n",
      "Total training time: 0.00 seconds.\n",
      "-- Epoch 8\n",
      "Norm: 3.96, NNZs: 8, Bias: 0.220000, T: 6400, Avg. loss: 714.815140\n",
      "Total training time: 0.00 seconds.\n",
      "-- Epoch 9\n",
      "Norm: 6.31, NNZs: 8, Bias: 0.320000, T: 7200, Avg. loss: 733.170098\n",
      "Total training time: 0.00 seconds.\n",
      "-- Epoch 10\n",
      "Norm: 7.84, NNZs: 8, Bias: 0.310000, T: 8000, Avg. loss: 689.044380\n",
      "Total training time: 0.00 seconds.\n",
      "-- Epoch 11\n",
      "Norm: 7.13, NNZs: 8, Bias: 0.300000, T: 8800, Avg. loss: 687.502473\n",
      "Total training time: 0.00 seconds.\n",
      "-- Epoch 12\n",
      "Norm: 5.14, NNZs: 8, Bias: 0.250000, T: 9600, Avg. loss: 781.554488\n",
      "Total training time: 0.00 seconds.\n",
      "Convergence after 12 epochs took 0.00 seconds\n"
     ]
    },
    {
     "name": "stderr",
     "output_type": "stream",
     "text": [
      "[Parallel(n_jobs=1)]: Done   1 tasks      | elapsed:    0.0s\n"
     ]
    },
    {
     "data": {
      "text/html": [
       "<style>#sk-container-id-2 {color: black;}#sk-container-id-2 pre{padding: 0;}#sk-container-id-2 div.sk-toggleable {background-color: white;}#sk-container-id-2 label.sk-toggleable__label {cursor: pointer;display: block;width: 100%;margin-bottom: 0;padding: 0.3em;box-sizing: border-box;text-align: center;}#sk-container-id-2 label.sk-toggleable__label-arrow:before {content: \"▸\";float: left;margin-right: 0.25em;color: #696969;}#sk-container-id-2 label.sk-toggleable__label-arrow:hover:before {color: black;}#sk-container-id-2 div.sk-estimator:hover label.sk-toggleable__label-arrow:before {color: black;}#sk-container-id-2 div.sk-toggleable__content {max-height: 0;max-width: 0;overflow: hidden;text-align: left;background-color: #f0f8ff;}#sk-container-id-2 div.sk-toggleable__content pre {margin: 0.2em;color: black;border-radius: 0.25em;background-color: #f0f8ff;}#sk-container-id-2 input.sk-toggleable__control:checked~div.sk-toggleable__content {max-height: 200px;max-width: 100%;overflow: auto;}#sk-container-id-2 input.sk-toggleable__control:checked~label.sk-toggleable__label-arrow:before {content: \"▾\";}#sk-container-id-2 div.sk-estimator input.sk-toggleable__control:checked~label.sk-toggleable__label {background-color: #d4ebff;}#sk-container-id-2 div.sk-label input.sk-toggleable__control:checked~label.sk-toggleable__label {background-color: #d4ebff;}#sk-container-id-2 input.sk-hidden--visually {border: 0;clip: rect(1px 1px 1px 1px);clip: rect(1px, 1px, 1px, 1px);height: 1px;margin: -1px;overflow: hidden;padding: 0;position: absolute;width: 1px;}#sk-container-id-2 div.sk-estimator {font-family: monospace;background-color: #f0f8ff;border: 1px dotted black;border-radius: 0.25em;box-sizing: border-box;margin-bottom: 0.5em;}#sk-container-id-2 div.sk-estimator:hover {background-color: #d4ebff;}#sk-container-id-2 div.sk-parallel-item::after {content: \"\";width: 100%;border-bottom: 1px solid gray;flex-grow: 1;}#sk-container-id-2 div.sk-label:hover label.sk-toggleable__label {background-color: #d4ebff;}#sk-container-id-2 div.sk-serial::before {content: \"\";position: absolute;border-left: 1px solid gray;box-sizing: border-box;top: 0;bottom: 0;left: 50%;z-index: 0;}#sk-container-id-2 div.sk-serial {display: flex;flex-direction: column;align-items: center;background-color: white;padding-right: 0.2em;padding-left: 0.2em;position: relative;}#sk-container-id-2 div.sk-item {position: relative;z-index: 1;}#sk-container-id-2 div.sk-parallel {display: flex;align-items: stretch;justify-content: center;background-color: white;position: relative;}#sk-container-id-2 div.sk-item::before, #sk-container-id-2 div.sk-parallel-item::before {content: \"\";position: absolute;border-left: 1px solid gray;box-sizing: border-box;top: 0;bottom: 0;left: 50%;z-index: -1;}#sk-container-id-2 div.sk-parallel-item {display: flex;flex-direction: column;z-index: 1;position: relative;background-color: white;}#sk-container-id-2 div.sk-parallel-item:first-child::after {align-self: flex-end;width: 50%;}#sk-container-id-2 div.sk-parallel-item:last-child::after {align-self: flex-start;width: 50%;}#sk-container-id-2 div.sk-parallel-item:only-child::after {width: 0;}#sk-container-id-2 div.sk-dashed-wrapped {border: 1px dashed gray;margin: 0 0.4em 0.5em 0.4em;box-sizing: border-box;padding-bottom: 0.4em;background-color: white;}#sk-container-id-2 div.sk-label label {font-family: monospace;font-weight: bold;display: inline-block;line-height: 1.2em;}#sk-container-id-2 div.sk-label-container {text-align: center;}#sk-container-id-2 div.sk-container {/* jupyter's `normalize.less` sets `[hidden] { display: none; }` but bootstrap.min.css set `[hidden] { display: none !important; }` so we also need the `!important` here to be able to override the default hidden behavior on the sphinx rendered scikit-learn.org. See: https://github.com/scikit-learn/scikit-learn/issues/21755 */display: inline-block !important;position: relative;}#sk-container-id-2 div.sk-text-repr-fallback {display: none;}</style><div id=\"sk-container-id-2\" class=\"sk-top-container\"><div class=\"sk-text-repr-fallback\"><pre>Perceptron(eta0=0.01, random_state=1, verbose=10)</pre><b>In a Jupyter environment, please rerun this cell to show the HTML representation or trust the notebook. <br />On GitHub, the HTML representation is unable to render, please try loading this page with nbviewer.org.</b></div><div class=\"sk-container\" hidden><div class=\"sk-item\"><div class=\"sk-estimator sk-toggleable\"><input class=\"sk-toggleable__control sk-hidden--visually\" id=\"sk-estimator-id-2\" type=\"checkbox\" checked><label for=\"sk-estimator-id-2\" class=\"sk-toggleable__label sk-toggleable__label-arrow\">Perceptron</label><div class=\"sk-toggleable__content\"><pre>Perceptron(eta0=0.01, random_state=1, verbose=10)</pre></div></div></div></div></div>"
      ],
      "text/plain": [
       "Perceptron(eta0=0.01, random_state=1, verbose=10)"
      ]
     },
     "execution_count": 14,
     "metadata": {},
     "output_type": "execute_result"
    }
   ],
   "source": [
    "precetrom = Perceptron(max_iter=1000,tol=0.001,eta0 = 0.01,random_state = 1, verbose=10)\n",
    "precetrom.fit(x_train,y_train)"
   ]
  },
  {
   "cell_type": "markdown",
   "metadata": {},
   "source": [
    "Allenamneto performace"
   ]
  },
  {
   "cell_type": "code",
   "execution_count": 15,
   "metadata": {},
   "outputs": [
    {
     "name": "stdout",
     "output_type": "stream",
     "text": [
      "Accuratezza:  0.33\n"
     ]
    }
   ],
   "source": [
    "y_pred = precetrom.predict(x_text)\n",
    "accuraty = accuracy_score(y_text,y_pred)\n",
    "print(\"Accuratezza: \",accuraty)"
   ]
  },
  {
   "cell_type": "markdown",
   "metadata": {},
   "source": [
    "Predizione nuovo esempio"
   ]
  },
  {
   "cell_type": "code",
   "execution_count": 17,
   "metadata": {},
   "outputs": [
    {
     "name": "stdout",
     "output_type": "stream",
     "text": [
      "Classe Predetta:  ['Mandalay']\n"
     ]
    },
    {
     "name": "stderr",
     "output_type": "stream",
     "text": [
      "C:\\Users\\nicol\\AppData\\Local\\Packages\\PythonSoftwareFoundation.Python.3.11_qbz5n2kfra8p0\\LocalCache\\local-packages\\Python311\\site-packages\\sklearn\\base.py:465: UserWarning: X does not have valid feature names, but Perceptron was fitted with feature names\n",
      "  warnings.warn(\n"
     ]
    }
   ],
   "source": [
    "nuovo_esempio = np.array([[\n",
    "    58.15,4,11.63,244.23,232.6,4.761904762,11.63,8.4\n",
    "]])\n",
    "\n",
    "classe_predetta = precetrom.predict(nuovo_esempio)\n",
    "\n",
    "print(\"Classe Predetta: \",classe_predetta)"
   ]
  }
 ],
 "metadata": {
  "kernelspec": {
   "display_name": "Python 3",
   "language": "python",
   "name": "python3"
  },
  "language_info": {
   "codemirror_mode": {
    "name": "ipython",
    "version": 3
   },
   "file_extension": ".py",
   "mimetype": "text/x-python",
   "name": "python",
   "nbconvert_exporter": "python",
   "pygments_lexer": "ipython3",
   "version": "3.11.9"
  }
 },
 "nbformat": 4,
 "nbformat_minor": 2
}
