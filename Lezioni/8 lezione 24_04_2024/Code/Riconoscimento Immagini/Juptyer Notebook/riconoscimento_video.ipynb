{
 "cells": [
  {
   "cell_type": "code",
   "execution_count": 1,
   "metadata": {},
   "outputs": [
    {
     "name": "stdout",
     "output_type": "stream",
     "text": [
      "Requirement already satisfied: opencv-python in c:\\users\\nicol\\appdata\\local\\packages\\pythonsoftwarefoundation.python.3.11_qbz5n2kfra8p0\\localcache\\local-packages\\python311\\site-packages (4.9.0.80)\n",
      "Requirement already satisfied: numpy>=1.21.2 in c:\\users\\nicol\\appdata\\local\\packages\\pythonsoftwarefoundation.python.3.11_qbz5n2kfra8p0\\localcache\\local-packages\\python311\\site-packages (from opencv-python) (1.26.2)\n"
     ]
    }
   ],
   "source": [
    "! pip install opencv-python"
   ]
  },
  {
   "cell_type": "code",
   "execution_count": 2,
   "metadata": {},
   "outputs": [],
   "source": [
    "import cv2\n",
    "import numpy as np\n",
    "import sys\n",
    "\n",
    "face_cascade = cv2.CascadeClassifier(\"../XML/haarcascade_frontalface_default.xml\")\n",
    "smile_cascade = cv2.CascadeClassifier(\"../XML/haarcascade_smile.xml\")\n",
    "\n",
    "cap = cv2.VideoCapture('')\n",
    "cap.set(3, 640)\n",
    "cap.set(4, 480)\n",
    "sF = 1.05\n",
    "\n",
    "while cap.isOpened():\n",
    "    ret, frame = cap.read()\n",
    "    img = frame\n",
    "    gray = cv2.cvtColor(frame, cv2.COLOR_BGR2GRAY)\n",
    "    faces = face_cascade.detectMultiScale(\n",
    "        gray,\n",
    "        scaleFactor=sF,\n",
    "        minNeighbors=8,\n",
    "        minSize=(55, 55),\n",
    "        flags=cv2.CASCADE_SCALE_IMAGE\n",
    "    )\n",
    "    for (x, y, w, h) in faces:\n",
    "        roi_gray = gray[y:y+h, x:x+w]\n",
    "        roi_color = frame[y:y+h, x:x+w]\n",
    "        smile = smile_cascade.detectMultiScale(\n",
    "            roi_gray,\n",
    "            scaleFactor=1.7,\n",
    "            minNeighbors=22,\n",
    "            minSize=(25, 25),\n",
    "            flags=cv2.CASCADE_SCALE_IMAGE\n",
    "        )\n",
    "        for (x, y, w, h) in smile:\n",
    "            print(\"Trovato un sorriso!\")\n",
    "            cv2.rectangle(roi_color, (x, y), (x+w, y+h), (255, 0, 0), 1)\n",
    "    cv2.namedWindow('Smile Detector', cv2.WINDOW_NORMAL)\n",
    "    cv2.resizeWindow('Smile Detector', 960, 540)\n",
    "\n",
    "    cv2.imshow('Smile Detector', frame)\n",
    "    c = cv2.waitKey(7) % 0x100\n",
    "    if c == 27:\n",
    "        break\n",
    "\n",
    "cap.release()\n",
    "cv2.destroyAllWindows()\n"
   ]
  }
 ],
 "metadata": {
  "kernelspec": {
   "display_name": "Python 3",
   "language": "python",
   "name": "python3"
  },
  "language_info": {
   "codemirror_mode": {
    "name": "ipython",
    "version": 3
   },
   "file_extension": ".py",
   "mimetype": "text/x-python",
   "name": "python",
   "nbconvert_exporter": "python",
   "pygments_lexer": "ipython3",
   "version": "3.11.9"
  }
 },
 "nbformat": 4,
 "nbformat_minor": 2
}
