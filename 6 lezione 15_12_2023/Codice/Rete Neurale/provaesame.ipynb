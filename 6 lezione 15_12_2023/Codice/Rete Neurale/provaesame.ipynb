{
 "cells": [
  {
   "cell_type": "markdown",
   "metadata": {},
   "source": [
    "1 versione esercizio"
   ]
  },
  {
   "cell_type": "code",
   "execution_count": null,
   "metadata": {},
   "outputs": [],
   "source": [
    "import numpy as np\n",
    "import pandas as pd\n",
    "from sklearn import datasets #riferimento ai dati di esempio\n",
    "from sklearn.model_selection import train_test_split #organizza dati learning\n",
    "from sklearn.linear_model import Perceptron #modello di predizione scelto\n",
    "from sklearn.metrics import accuracy_score #calcolo dell'accuratezza\n",
    "\n",
    "excelFile = pd.read_excel('C:\\Dati\\entrate.xlsx')\n",
    "X = np.array([excelFile[\"Esercizio\"],\n",
    "             #excelFile.Accertamenti.values,\n",
    "             #excelFile.Riscossioni.values,\n",
    "             excelFile[\"Residui\"]]).T #input\n",
    "y = excelFile[\"Esercizio\"] #output\n",
    "\n",
    "print(X)\n",
    "print(X.shape)\n",
    "print(y.shape)\n",
    "#divide in insiemi di training 80% e test 20% e senza scelta casuale  \n",
    "X_train, X_test, y_train, y_test = train_test_split(X, y, test_size=0.2, random_state=42)\n",
    "\n",
    "#impostazione parametri del modello neural network Perceptron\n",
    "ppn = Perceptron(max_iter=40, tol=0.001, eta0=0.01, random_state=0)\n",
    "#supervised learning del modello scelto\n",
    "ppn.fit(X_train, y_train)\n",
    "\n",
    "#predizione sul test set\n",
    "y_pred = ppn.predict(X_test)\n",
    "\n",
    "#verifica errore sul test set\n",
    "print('accuratezza della predizione',accuracy_score(y_test, y_pred))\n",
    "\n",
    "#messa in esercizio su nuovi dati di un oggetto da classificare\n",
    "print (\"classe predetta\",ppn.predict([[1.3, 1.2]]))\n",
    "print (\"classe predetta\",ppn.predict([[4,11]]))"
   ]
  },
  {
   "cell_type": "markdown",
   "metadata": {},
   "source": [
    "2 versione esercizio"
   ]
  },
  {
   "cell_type": "code",
   "execution_count": null,
   "metadata": {},
   "outputs": [],
   "source": [
    "# pulire dataset\n",
    "# addestrare una rete neurale che in base all'importo capisce a che categoria di entrate \n",
    "#appartiene\n",
    "\n",
    "# Importa librerie necessarie\n",
    "import pandas as pd\n",
    "import numpy as np\n",
    "from sklearn.model_selection import train_test_split\n",
    "from sklearn.linear_model import Perceptron\n",
    "from sklearn.metrics import accuracy_score\n",
    "\n",
    "# Carica il dataset load entrate()\n",
    "dati_pagamenti = pd.read_excel('c:\\dati\\entrate.xlsx')\n",
    "\n",
    "# Seleziona colonne da verificare per la pulizia del dataset\n",
    "cols_to_check = ['Accertamenti 2^ Esercizio antecedente', 'Previsione definitiva Esercizio Precedente', 'Previsioni Iniziali Competenza', 'Previsioni Definitive Competenza', 'Accertamenti', 'Riscossioni', 'Residui']\n",
    "\n",
    "# Rimuovi le righe in cui tutte le colonne selezionate hanno valore zero\n",
    "dati_pagamenti = dati_pagamenti.loc[~(dati_pagamenti[cols_to_check] == 0).all(axis=1)]\n",
    "\n",
    "# Seleziona le colonne di input e output\n",
    "data = dati_pagamenti[[\"Accertamenti 2^ Esercizio antecedente\",\"Previsione definitiva Esercizio Precedente\",\"Previsioni Iniziali Competenza\",\"Previsioni Definitive Competenza\",\"Accertamenti\",\"Riscossioni\",\"Residui\"]]\n",
    "target = dati_pagamenti[[\"Titolo\"]]\n",
    "\n",
    "# Gestisci il formato della variabile target\n",
    "temp_target = target.squeeze()\n",
    "target_names = pd.unique(temp_target)\n",
    "\n",
    "print(\"Target Names:\", target_names)\n",
    "\n",
    "# Suddividi il dataset in set di addestramento e test\n",
    "data_train, data_test, target_train, target_test = train_test_split(data, target, test_size=0.2, random_state=0)\n",
    "\n",
    "# Crea e addestra il classificatore Perceptron\n",
    "ppn = Perceptron(max_iter=40, tol=0.001, eta0=0.01, random_state=0)\n",
    "ppn.fit(data_train, target_train)\n",
    "\n",
    "# Calcola l'accuratezza del modello\n",
    "target_pred = ppn.predict(data_test)\n",
    "accuracy = accuracy_score(target_test, target_pred)\n",
    "print(\"Accuratezza del modello:\", accuracy)\n",
    "\n",
    "# Esegui una predizione su un nuovo esempio\n",
    "new_example = np.array([[6541,651,178096,32,189,1234,0]])  # valori di esempio\n",
    "predicted_class = ppn.predict(new_example)\n",
    "print(\"Classe predetta:\", predicted_class)\n"
   ]
  }
 ],
 "metadata": {
  "language_info": {
   "name": "python"
  }
 },
 "nbformat": 4,
 "nbformat_minor": 2
}
