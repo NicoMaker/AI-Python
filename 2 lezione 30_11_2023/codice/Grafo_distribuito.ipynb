{
 "cells": [
  {
   "cell_type": "markdown",
   "metadata": {},
   "source": [
    "Grafo"
   ]
  },
  {
   "cell_type": "code",
   "execution_count": 1,
   "metadata": {},
   "outputs": [],
   "source": [
    "array = [\n",
    "    [\"a\",\"c\"],\n",
    "    [\"d\",\"e\"],\n",
    "    [\"h\",\"B\"],\n",
    "    [\"g\",\"f\"]\n",
    "]"
   ]
  },
  {
   "cell_type": "markdown",
   "metadata": {},
   "source": [
    "Grafo distribuito\n",
    "\n",
    "run_bfs(maze, current_point, visited_points):\n",
    "\n",
    "let q equal a new queue\n",
    "\n",
    "push current_point to g\n",
    "\n",
    "mark current_point as visited\n",
    "\n",
    "while q is not empty:\n",
    "\n",
    "pop g and let current_point equal the returned point\n",
    "\n",
    "add available cells north, east, south, and west to a list neighbors\n",
    "\n",
    "for each neighbor in neighbors:\n",
    "\n",
    "if neighbor is not visited:\n",
    "\n",
    "set neighbor parent as current_point\n",
    "\n",
    "mark neighbor as visited\n",
    "\n",
    "push neighbor to g\n",
    "\n",
    "if value at neighbor is the goal:\n",
    "\n",
    "return path using neighbor\n",
    "\n",
    "return “No path to goal”"
   ]
  },
  {
   "cell_type": "markdown",
   "metadata": {},
   "source": [
    "Grafo in profonfità\n",
    "\n",
    "run_dfs (maze, root_point, visited_points):\n",
    "\n",
    "let s equal a new stack\n",
    "\n",
    "add root_point to s\n",
    "\n",
    "while s is not empty\n",
    "\n",
    "pop s and let current_point equal the returned point\n",
    "\n",
    "if current_point is not visited:\n",
    "\n",
    "mark current_point as visited\n",
    "\n",
    "if value at current_node is the goal:\n",
    "\n",
    "return path using current_point\n",
    "\n",
    "else:\n",
    "\n",
    "add available cells north, east, south, and west to a list neighbours\n",
    "\n",
    "for each neighbour in neighbours:\n",
    "\n",
    "set neighbour parent as current_point\n",
    "\n",
    "push neighbours to s\n",
    "\n",
    "return “No path to goal”"
   ]
  }
 ],
 "metadata": {
  "kernelspec": {
   "display_name": "Python 3",
   "language": "python",
   "name": "python3"
  },
  "language_info": {
   "codemirror_mode": {
    "name": "ipython",
    "version": 3
   },
   "file_extension": ".py",
   "mimetype": "text/x-python",
   "name": "python",
   "nbconvert_exporter": "python",
   "pygments_lexer": "ipython3",
   "version": "3.11.7"
  }
 },
 "nbformat": 4,
 "nbformat_minor": 2
}
