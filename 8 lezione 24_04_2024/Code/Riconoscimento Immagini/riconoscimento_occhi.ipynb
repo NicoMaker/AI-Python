{
 "cells": [
  {
   "cell_type": "code",
   "execution_count": 1,
   "metadata": {},
   "outputs": [
    {
     "name": "stdout",
     "output_type": "stream",
     "text": [
      "Requirement already satisfied: opencv-python in c:\\users\\nicol\\appdata\\local\\packages\\pythonsoftwarefoundation.python.3.11_qbz5n2kfra8p0\\localcache\\local-packages\\python311\\site-packages (4.9.0.80)\n",
      "Requirement already satisfied: numpy>=1.21.2 in c:\\users\\nicol\\appdata\\local\\packages\\pythonsoftwarefoundation.python.3.11_qbz5n2kfra8p0\\localcache\\local-packages\\python311\\site-packages (from opencv-python) (1.26.2)\n"
     ]
    }
   ],
   "source": [
    "! pip install opencv-python"
   ]
  },
  {
   "cell_type": "code",
   "execution_count": 2,
   "metadata": {},
   "outputs": [],
   "source": [
    "\n",
    "import cv2\n",
    "f_cascade = cv2.CascadeClassifier(\"haarcascade_frontalface_default.xml\")\n",
    "e_cascade = cv2.CascadeClassifier(\"haarcascade_eye.xml\")\n",
    "image = cv2.imread(\"img/elodie2.png\")\n",
    "gray = cv2.cvtColor(image, cv2.COLOR_BGR2GRAY)\n",
    "\"\"\"gray: Questo è l'input dell'immagine in scala di grigi su cui verrà eseguito il rilevamento. \n",
    "Prima di rilevare i volti, è una pratica comune convertire l'immagine a scala di grigi poiché semplifica \n",
    "il processo di rilevamento dei bordi e di altre caratteristiche.\n",
    "1.3: Questo parametro specifica il fattore di scala. Il fattore di scala controlla \n",
    "quanto l'immagine viene ridimensionata ad ogni livello della piramide dell'immagine durante \n",
    "il processo di rilevamento. Un valore più piccolo consente di rilevare oggetti più piccoli,\n",
    "ma aumenta anche il tempo di calcolo. Un valore tipico è compreso tra 1.1 e 1.5.\n",
    "\n",
    "5: Questo parametro specifica il numero minimo di vicini richiesti per considerare un'area come volto.\n",
    " Questo parametro influenza la sensibilità del rilevatore: un valore più alto \n",
    " riduce il numero di falsi positivi, ma potrebbe far perdere anche alcuni volti. Un valore tipico\n",
    "   è compreso tra 3 e 6.\"\"\"\n",
    "\n",
    "faces = f_cascade.detectMultiScale(gray, 1.3, 5)\n",
    "\n",
    "for (x,y,w,h) in faces:\n",
    "    image2 = cv2.rectangle(image,(x,y),(x+w,y+h),(255,0,0),2)\n",
    "    roi_gray = gray[y:y+h, x:x+w]\n",
    "    roi_color = image2[y:y+h, x:x+w]\n",
    "    eyes = e_cascade.detectMultiScale(roi_gray)\n",
    "    for (ex,ey,ew,eh) in eyes:\n",
    "        cv2.rectangle(roi_color,(ex,ey),(ex+ew,ey+eh),(0,255,0),2)\n",
    "cv2.imshow('img',image2)\n",
    "cv2.waitKey(0)\n",
    "cv2.destroyAllWindows()"
   ]
  }
 ],
 "metadata": {
  "kernelspec": {
   "display_name": "Python 3",
   "language": "python",
   "name": "python3"
  },
  "language_info": {
   "codemirror_mode": {
    "name": "ipython",
    "version": 3
   },
   "file_extension": ".py",
   "mimetype": "text/x-python",
   "name": "python",
   "nbconvert_exporter": "python",
   "pygments_lexer": "ipython3",
   "version": "3.11.9"
  }
 },
 "nbformat": 4,
 "nbformat_minor": 2
}
