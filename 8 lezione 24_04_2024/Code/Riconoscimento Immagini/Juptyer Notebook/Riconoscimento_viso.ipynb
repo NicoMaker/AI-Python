{
 "cells": [
  {
   "cell_type": "code",
   "execution_count": 2,
   "metadata": {},
   "outputs": [
    {
     "name": "stdout",
     "output_type": "stream",
     "text": [
      "Requirement already satisfied: opencv-python in c:\\users\\nicol\\appdata\\local\\packages\\pythonsoftwarefoundation.python.3.11_qbz5n2kfra8p0\\localcache\\local-packages\\python311\\site-packages (4.9.0.80)\n",
      "Requirement already satisfied: numpy>=1.21.2 in c:\\users\\nicol\\appdata\\local\\packages\\pythonsoftwarefoundation.python.3.11_qbz5n2kfra8p0\\localcache\\local-packages\\python311\\site-packages (from opencv-python) (1.26.2)\n"
     ]
    }
   ],
   "source": [
    "! pip install opencv-python"
   ]
  },
  {
   "cell_type": "code",
   "execution_count": 1,
   "metadata": {},
   "outputs": [
    {
     "data": {
      "text/plain": [
       "True"
      ]
     },
     "execution_count": 1,
     "metadata": {},
     "output_type": "execute_result"
    }
   ],
   "source": [
    "\n",
    "\n",
    "import cv2\n",
    "\n",
    "\n",
    "# Definiamo i path necessari\n",
    "image_path = '../img/tshirt02.jpg'\n",
    "haarcasc_path = '../XML/haarcascade_frontalface_default.xml'\n",
    "\n",
    "\n",
    "# Creiamo la haar cascade\n",
    "face_cascade_class = cv2.CascadeClassifier(haarcasc_path)\n",
    "# Leggiamo l’immagine\n",
    "test_image = cv2.imread(image_path)\n",
    "gray_image = cv2.cvtColor(test_image, cv2.COLOR_BGR2GRAY)\n",
    "\n",
    "# Riconosciamo i volti nelle immagini\n",
    "checked_faces = face_cascade_class.detectMultiScale(\n",
    "    gray_image,\n",
    "    scaleFactor=1.2,\n",
    "    minNeighbors=3,\n",
    "    minSize=(10, 10)\n",
    ")\n",
    "\n",
    "# Tracciamo un rettangolo intorno ai volti\n",
    "for (x, y, w, h) in checked_faces:\n",
    "    cv2.rectangle(test_image, (x, y), (x+w, y+h), (0, 255, 0), 2)\n",
    "cv2.imshow(\"Faces found\", test_image)\n",
    "cv2.waitKey(0)\n",
    "cv2.destroyAllWindows()\n",
    "cv2.imwrite('../img/Face_EM_final.jpg',test_image)"
   ]
  }
 ],
 "metadata": {
  "kernelspec": {
   "display_name": "Python 3",
   "language": "python",
   "name": "python3"
  },
  "language_info": {
   "codemirror_mode": {
    "name": "ipython",
    "version": 3
   },
   "file_extension": ".py",
   "mimetype": "text/x-python",
   "name": "python",
   "nbconvert_exporter": "python",
   "pygments_lexer": "ipython3",
   "version": "3.11.9"
  }
 },
 "nbformat": 4,
 "nbformat_minor": 2
}
